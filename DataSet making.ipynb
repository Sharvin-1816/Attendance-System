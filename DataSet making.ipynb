{
 "cells": [
  {
   "cell_type": "code",
   "execution_count": 1,
   "id": "07f3f7b4",
   "metadata": {},
   "outputs": [],
   "source": [
    "import cv2\n",
    "import os\n",
    "import shutil"
   ]
  },
  {
   "cell_type": "code",
   "execution_count": 2,
   "id": "61ab2df7",
   "metadata": {},
   "outputs": [
    {
     "name": "stdout",
     "output_type": "stream",
     "text": [
      "['Abella', 'Adeola', 'Andrew', 'Arnav', 'Emily', 'Jephary', 'Lily', 'Max', 'Ninad', 'Sharvin', 'Sheran']\n"
     ]
    }
   ],
   "source": [
    "os.chdir(r\"C:\\Users\\SHARVIN JOSHI\\Desktop\\P\\ATTENDANCE SYSTEM\\DataSet\")\n",
    "print(os.listdir())\n",
    "names_list = os.listdir()"
   ]
  },
  {
   "cell_type": "code",
   "execution_count": 3,
   "id": "863842b6",
   "metadata": {},
   "outputs": [
    {
     "name": "stdout",
     "output_type": "stream",
     "text": [
      "C:\\Users\\SHARVIN JOSHI\\Desktop\\P\\ATTENDANCE SYSTEM\\DataSet\\Abella\n",
      "C:\\Users\\SHARVIN JOSHI\\Desktop\\P\\ATTENDANCE SYSTEM\\DataSet\\Adeola\n",
      "C:\\Users\\SHARVIN JOSHI\\Desktop\\P\\ATTENDANCE SYSTEM\\DataSet\\Andrew\n",
      "C:\\Users\\SHARVIN JOSHI\\Desktop\\P\\ATTENDANCE SYSTEM\\DataSet\\Arnav\n",
      "C:\\Users\\SHARVIN JOSHI\\Desktop\\P\\ATTENDANCE SYSTEM\\DataSet\\Emily\n",
      "C:\\Users\\SHARVIN JOSHI\\Desktop\\P\\ATTENDANCE SYSTEM\\DataSet\\Jephary\n",
      "C:\\Users\\SHARVIN JOSHI\\Desktop\\P\\ATTENDANCE SYSTEM\\DataSet\\Lily\n",
      "C:\\Users\\SHARVIN JOSHI\\Desktop\\P\\ATTENDANCE SYSTEM\\DataSet\\Max\n",
      "C:\\Users\\SHARVIN JOSHI\\Desktop\\P\\ATTENDANCE SYSTEM\\DataSet\\Ninad\n",
      "C:\\Users\\SHARVIN JOSHI\\Desktop\\P\\ATTENDANCE SYSTEM\\DataSet\\Sharvin\n",
      "C:\\Users\\SHARVIN JOSHI\\Desktop\\P\\ATTENDANCE SYSTEM\\DataSet\\Sheran\n"
     ]
    }
   ],
   "source": [
    "for x in names_list:\n",
    "    path_to_video = rf\"C:\\Users\\SHARVIN JOSHI\\Desktop\\P\\ATTENDANCE SYSTEM\\DataSet\\{x}\"\n",
    "    class_name = x.split(\".\")[0]\n",
    "    class_path = rf\"C:\\Users\\SHARVIN JOSHI\\Desktop\\P\\ATTENDANCE SYSTEM\\DataSet\\{class_name}\"\n",
    "    print(class_path)\n",
    "    os.mkdir(class_path)\n",
    "    os.chdir(class_path)\n",
    "    cap = cv2.VideoCapture(path_to_video)\n",
    "    a=0\n",
    "    while True:\n",
    "        ret,frame = cap.read()\n",
    "        if not ret:\n",
    "            break\n",
    "        image_name = f\"{class_name}_{a}.jpg\"\n",
    "        image_path = os.path.join(class_path, image_name)\n",
    "        frame=cv2.resize(frame,(128,128))\n",
    "        cv2.imwrite(image_path,frame)\n",
    "        a=a+1\n",
    "    cap.release()"
   ]
  },
  {
   "cell_type": "code",
   "execution_count": 4,
   "id": "3718dee0",
   "metadata": {},
   "outputs": [
    {
     "data": {
      "text/plain": [
       "['Abella',\n",
       " 'Abella.mp4',\n",
       " 'Adeola',\n",
       " 'Adeola.mp4',\n",
       " 'Andrew',\n",
       " 'Andrew.mp4',\n",
       " 'Arnav',\n",
       " 'Arnav.mp4',\n",
       " 'Emily',\n",
       " 'Emily.mp4',\n",
       " 'Jephary',\n",
       " 'Jephary.mp4',\n",
       " 'Lily',\n",
       " 'Lily.mp4',\n",
       " 'Max',\n",
       " 'Max.mp4',\n",
       " 'Ninad',\n",
       " 'Ninad.mp4',\n",
       " 'Sharvin',\n",
       " 'Sharvin.mp4',\n",
       " 'Sheran',\n",
       " 'Sheran.mp4']"
      ]
     },
     "execution_count": 4,
     "metadata": {},
     "output_type": "execute_result"
    }
   ],
   "source": [
    "os.chdir(r\"C:\\Users\\SHARVIN JOSHI\\Desktop\\P\\ATTENDANCE SYSTEM\\DataSet\")\n",
    "os.listdir()"
   ]
  },
  {
   "cell_type": "code",
   "execution_count": 5,
   "id": "91146001",
   "metadata": {},
   "outputs": [],
   "source": [
    "for x in os.listdir():\n",
    "    if \".mp4\" in x:\n",
    "        os.remove(x)"
   ]
  },
  {
   "cell_type": "code",
   "execution_count": null,
   "id": "f4d6c94a",
   "metadata": {},
   "outputs": [],
   "source": []
  }
 ],
 "metadata": {
  "kernelspec": {
   "display_name": "Python 3 (ipykernel)",
   "language": "python",
   "name": "python3"
  },
  "language_info": {
   "codemirror_mode": {
    "name": "ipython",
    "version": 3
   },
   "file_extension": ".py",
   "mimetype": "text/x-python",
   "name": "python",
   "nbconvert_exporter": "python",
   "pygments_lexer": "ipython3",
   "version": "3.11.5"
  }
 },
 "nbformat": 4,
 "nbformat_minor": 5
}
