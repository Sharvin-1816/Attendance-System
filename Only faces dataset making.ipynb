{
 "cells": [
  {
   "cell_type": "code",
   "execution_count": 1,
   "id": "edc83dde",
   "metadata": {},
   "outputs": [],
   "source": [
    "import cv2\n",
    "import os\n",
    "import shutil"
   ]
  },
  {
   "cell_type": "code",
   "execution_count": 2,
   "id": "db586371",
   "metadata": {},
   "outputs": [
    {
     "name": "stdout",
     "output_type": "stream",
     "text": [
      "['Ashley.mp4', 'Devia.mp4', 'Filton.mp4', 'Gary.mp4', 'George.mp4', 'Lita.mp4', 'Mary.mp4', 'Megan.mp4', 'Sharvin.mp4', 'Shelly.mp4', 'Shin.mp4', 'Sukhi.mp4', 'Winnie.mp4', 'Yuma.mp4']\n"
     ]
    }
   ],
   "source": [
    "os.chdir(r\"C:\\Users\\SHARVIN JOSHI\\Desktop\\P\\ATTENDANCE SYSTEM\\DataSet2\")\n",
    "print(os.listdir())\n",
    "names_list = os.listdir()\n",
    "face_cascade = cv2.CascadeClassifier(r\"C:\\Users\\SHARVIN JOSHI\\Desktop\\P\\ATTENDANCE SYSTEM\\haarcascade_frontalface_default (1).xml\")"
   ]
  },
  {
   "cell_type": "code",
   "execution_count": 3,
   "id": "cb1083e2",
   "metadata": {},
   "outputs": [
    {
     "name": "stdout",
     "output_type": "stream",
     "text": [
      "C:\\Users\\SHARVIN JOSHI\\Desktop\\P\\ATTENDANCE SYSTEM\\DataSet2\\Ashley\n",
      "C:\\Users\\SHARVIN JOSHI\\Desktop\\P\\ATTENDANCE SYSTEM\\DataSet2\\Devia\n",
      "C:\\Users\\SHARVIN JOSHI\\Desktop\\P\\ATTENDANCE SYSTEM\\DataSet2\\Filton\n",
      "C:\\Users\\SHARVIN JOSHI\\Desktop\\P\\ATTENDANCE SYSTEM\\DataSet2\\Gary\n",
      "C:\\Users\\SHARVIN JOSHI\\Desktop\\P\\ATTENDANCE SYSTEM\\DataSet2\\George\n",
      "C:\\Users\\SHARVIN JOSHI\\Desktop\\P\\ATTENDANCE SYSTEM\\DataSet2\\Lita\n",
      "C:\\Users\\SHARVIN JOSHI\\Desktop\\P\\ATTENDANCE SYSTEM\\DataSet2\\Mary\n",
      "C:\\Users\\SHARVIN JOSHI\\Desktop\\P\\ATTENDANCE SYSTEM\\DataSet2\\Megan\n",
      "C:\\Users\\SHARVIN JOSHI\\Desktop\\P\\ATTENDANCE SYSTEM\\DataSet2\\Sharvin\n",
      "C:\\Users\\SHARVIN JOSHI\\Desktop\\P\\ATTENDANCE SYSTEM\\DataSet2\\Shelly\n",
      "C:\\Users\\SHARVIN JOSHI\\Desktop\\P\\ATTENDANCE SYSTEM\\DataSet2\\Shin\n",
      "C:\\Users\\SHARVIN JOSHI\\Desktop\\P\\ATTENDANCE SYSTEM\\DataSet2\\Sukhi\n",
      "C:\\Users\\SHARVIN JOSHI\\Desktop\\P\\ATTENDANCE SYSTEM\\DataSet2\\Winnie\n",
      "C:\\Users\\SHARVIN JOSHI\\Desktop\\P\\ATTENDANCE SYSTEM\\DataSet2\\Yuma\n"
     ]
    }
   ],
   "source": [
    "for x in names_list:\n",
    "    path_to_video = rf\"C:\\Users\\SHARVIN JOSHI\\Desktop\\P\\ATTENDANCE SYSTEM\\DataSet2\\{x}\"\n",
    "    class_name = x.split(\".\")[0]\n",
    "    class_path = rf\"C:\\Users\\SHARVIN JOSHI\\Desktop\\P\\ATTENDANCE SYSTEM\\DataSet2\\{class_name}\"\n",
    "    print(class_path)\n",
    "    os.mkdir(class_path)\n",
    "    os.chdir(class_path)\n",
    "    cap = cv2.VideoCapture(path_to_video)\n",
    "    a=0\n",
    "    while True:\n",
    "        ret,frame = cap.read()\n",
    "        \n",
    "        if not ret:\n",
    "            break\n",
    "        gray = cv2.cvtColor(frame, cv2.COLOR_BGR2GRAY)\n",
    "        \n",
    "        faces = face_cascade.detectMultiScale(gray, 1.3, 5)\n",
    "        \n",
    "        for (x, y, w, h) in faces:\n",
    "            cv2.rectangle(frame, (x, y), (x+w, y+h), (255, 0, 0), 2)\n",
    "        \n",
    "        roi_color = frame[y:y+h, x:x+w]\n",
    "        \n",
    "        image_name = f\"{class_name}_{a}.jpg\"\n",
    "        image_path = os.path.join(str(class_path), str(image_name))\n",
    "        frame=cv2.resize(roi_color,(128,128))\n",
    "        cv2.imwrite(image_path,roi_color)\n",
    "        a=a+1\n",
    "    cap.release()"
   ]
  },
  {
   "cell_type": "code",
   "execution_count": 4,
   "id": "d33bbb14",
   "metadata": {},
   "outputs": [
    {
     "data": {
      "text/plain": [
       "['Ashley',\n",
       " 'Ashley.mp4',\n",
       " 'Devia',\n",
       " 'Devia.mp4',\n",
       " 'Filton',\n",
       " 'Filton.mp4',\n",
       " 'Gary',\n",
       " 'Gary.mp4',\n",
       " 'George',\n",
       " 'George.mp4',\n",
       " 'Lita',\n",
       " 'Lita.mp4',\n",
       " 'Mary',\n",
       " 'Mary.mp4',\n",
       " 'Megan',\n",
       " 'Megan.mp4',\n",
       " 'Sharvin',\n",
       " 'Sharvin.mp4',\n",
       " 'Shelly',\n",
       " 'Shelly.mp4',\n",
       " 'Shin',\n",
       " 'Shin.mp4',\n",
       " 'Sukhi',\n",
       " 'Sukhi.mp4',\n",
       " 'Winnie',\n",
       " 'Winnie.mp4',\n",
       " 'Yuma',\n",
       " 'Yuma.mp4']"
      ]
     },
     "execution_count": 4,
     "metadata": {},
     "output_type": "execute_result"
    }
   ],
   "source": [
    "os.chdir(r\"C:\\Users\\SHARVIN JOSHI\\Desktop\\P\\ATTENDANCE SYSTEM\\DataSet2\")\n",
    "os.listdir()"
   ]
  },
  {
   "cell_type": "code",
   "execution_count": 5,
   "id": "eb6bfbfe",
   "metadata": {},
   "outputs": [],
   "source": [
    "for x in os.listdir():\n",
    "    if \".mp4\" in x:\n",
    "        os.remove(x)"
   ]
  },
  {
   "cell_type": "code",
   "execution_count": null,
   "id": "841930f1",
   "metadata": {},
   "outputs": [],
   "source": []
  }
 ],
 "metadata": {
  "kernelspec": {
   "display_name": "Python 3 (ipykernel)",
   "language": "python",
   "name": "python3"
  },
  "language_info": {
   "codemirror_mode": {
    "name": "ipython",
    "version": 3
   },
   "file_extension": ".py",
   "mimetype": "text/x-python",
   "name": "python",
   "nbconvert_exporter": "python",
   "pygments_lexer": "ipython3",
   "version": "3.11.5"
  }
 },
 "nbformat": 4,
 "nbformat_minor": 5
}
