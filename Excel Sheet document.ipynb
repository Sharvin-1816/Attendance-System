{
 "cells": [
  {
   "cell_type": "code",
   "execution_count": null,
   "id": "00598099",
   "metadata": {},
   "outputs": [],
   "source": [
    "import pandas as pd"
   ]
  },
  {
   "cell_type": "code",
   "execution_count": null,
   "id": "b24a1cd5",
   "metadata": {},
   "outputs": [],
   "source": [
    "student_names = ['Bailey','Drake','Freda','George','Hailey','Jasmin','Mary','Mika','Robert','Shin','Sia','Sukhi','video_preview_h264']"
   ]
  },
  {
   "cell_type": "code",
   "execution_count": null,
   "id": "66fd0144",
   "metadata": {},
   "outputs": [],
   "source": [
    "dict = {}\n",
    "for x in student_names:\n",
    "    dict.update({x:0})\n",
    "     \n",
    "df = pd.DataFrame.from_dict(dict, orient='index')\n",
    "df.to_excel('AttendenceList.xlsx', index=False)\n",
    "\n",
    "lecture = input(\"Enter lecture number: \")\n",
    "\n",
    "df[f\"Lecture {lecture}\"] = \"A\"\n",
    "\n",
    "predicted_output = \"\"\n",
    "df.at[predicted_output,f\"Lecture {lecture}\"] = \"P\"\n",
    "print(df)"
   ]
  }
 ],
 "metadata": {
  "kernelspec": {
   "display_name": "Python 3 (ipykernel)",
   "language": "python",
   "name": "python3"
  },
  "language_info": {
   "codemirror_mode": {
    "name": "ipython",
    "version": 3
   },
   "file_extension": ".py",
   "mimetype": "text/x-python",
   "name": "python",
   "nbconvert_exporter": "python",
   "pygments_lexer": "ipython3",
   "version": "3.11.5"
  }
 },
 "nbformat": 4,
 "nbformat_minor": 5
}
